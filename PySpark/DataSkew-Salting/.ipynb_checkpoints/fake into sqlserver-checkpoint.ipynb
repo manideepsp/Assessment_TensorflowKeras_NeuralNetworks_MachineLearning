{
 "cells": [
  {
   "cell_type": "code",
   "execution_count": 1,
   "id": "07a5bac0-339e-4311-9ae5-3957150154cc",
   "metadata": {},
   "outputs": [],
   "source": [
    "import pyodbc\n",
    "import pandas as pd\n",
    "from faker import Faker\n",
    "import random"
   ]
  },
  {
   "cell_type": "code",
   "execution_count": 2,
   "id": "4d86cd19-90ad-45a5-affc-6d010afd9735",
   "metadata": {},
   "outputs": [],
   "source": [
    "# Initialize the Faker library\n",
    "fake = Faker()"
   ]
  },
  {
   "cell_type": "code",
   "execution_count": 3,
   "id": "b367c808-2dcf-4eb8-917d-788318845a9f",
   "metadata": {},
   "outputs": [],
   "source": [
    "# Database connection details\n",
    "server = 'COGNINE-L143'   # Replace with your SQL Server\n",
    "database = 'Data'   # Replace with your database\n",
    "username = 'Read'   # Replace with your username\n",
    "password = 'Welcome2cognine'   # Replace with your password"
   ]
  },
  {
   "cell_type": "code",
   "execution_count": 4,
   "id": "2ca090e6-c7dc-4235-9d4f-c064e22bfc41",
   "metadata": {},
   "outputs": [],
   "source": [
    "# Connection string\n",
    "conn_str = f'DRIVER={{ODBC Driver 17 for SQL Server}};SERVER={server};DATABASE={database};UID={username};PWD={password}'\n",
    "\n",
    "# Connect to the SQL Server\n",
    "conn = pyodbc.connect(conn_str)\n",
    "cursor = conn.cursor()"
   ]
  },
  {
   "cell_type": "code",
   "execution_count": 5,
   "id": "0fa685e3-11c3-410d-9157-9998fbc57096",
   "metadata": {},
   "outputs": [
    {
     "name": "stderr",
     "output_type": "stream",
     "text": [
      "C:\\Users\\Manideep S\\AppData\\Local\\Temp\\ipykernel_6656\\4068413604.py:6: UserWarning: pandas only supports SQLAlchemy connectable (engine/connection) or database string URI or sqlite3 DBAPI2 connection. Other DBAPI2 objects are not tested. Please consider using SQLAlchemy.\n",
      "  existing_data = pd.read_sql(query, conn)\n"
     ]
    }
   ],
   "source": [
    "# Define the table name\n",
    "table_name = '[220k_awards_by_directors]'\n",
    "\n",
    "# Read existing data from the table\n",
    "query = f\"SELECT Top(10)* FROM {table_name}\"\n",
    "existing_data = pd.read_sql(query, conn)"
   ]
  },
  {
   "cell_type": "code",
   "execution_count": 6,
   "id": "cdb99f47-7438-474e-b458-917cdb48adc3",
   "metadata": {},
   "outputs": [],
   "source": [
    "# Generate random data\n",
    "def generate_random_data(existing_data):\n",
    "    new_data = []\n",
    "    \n",
    "    for _ in range(len(existing_data)):\n",
    "        # Generate random data based on existing data\n",
    "        row = {\n",
    "            'director_name': fake.name(),\n",
    "            'ceremony': random.choice(existing_data['ceremony']),\n",
    "            'year': random.choice(existing_data['year']),\n",
    "            'category': random.choice(existing_data['category']),\n",
    "            'outcome': random.choice(existing_data['outcome']),\n",
    "            'original_language': random.choice(existing_data['original_language'])\n",
    "        }\n",
    "        new_data.append(row)\n",
    "        print('new data generated: ',new_data)\n",
    "    \n",
    "    return pd.DataFrame(new_data)"
   ]
  },
  {
   "cell_type": "code",
   "execution_count": 7,
   "id": "fefea602-8f79-49bb-bcdb-afc19425f3b7",
   "metadata": {},
   "outputs": [
    {
     "name": "stdout",
     "output_type": "stream",
     "text": [
      "new data generated:  [{'director_name': 'Amy Gray', 'ceremony': 'Alliance of Women Film Journalists', 'year': '2017', 'category': 'Amanda', 'outcome': 'Won', 'original_language': 'fi'}]\n",
      "new data generated:  [{'director_name': 'Amy Gray', 'ceremony': 'Alliance of Women Film Journalists', 'year': '2017', 'category': 'Amanda', 'outcome': 'Won', 'original_language': 'fi'}, {'director_name': 'Peter Holloway', 'ceremony': 'Alliance of Women Film Journalists', 'year': '2004', 'category': 'Silver Condor', 'outcome': 'Nominated', 'original_language': 'fi'}]\n",
      "new data generated:  [{'director_name': 'Amy Gray', 'ceremony': 'Alliance of Women Film Journalists', 'year': '2017', 'category': 'Amanda', 'outcome': 'Won', 'original_language': 'fi'}, {'director_name': 'Peter Holloway', 'ceremony': 'Alliance of Women Film Journalists', 'year': '2004', 'category': 'Silver Condor', 'outcome': 'Nominated', 'original_language': 'fi'}, {'director_name': 'Jason Adams', 'ceremony': 'Berlin International Film Festival', 'year': '2003', 'category': 'Amanda', 'outcome': 'Won', 'original_language': 'fi'}]\n",
      "new data generated:  [{'director_name': 'Amy Gray', 'ceremony': 'Alliance of Women Film Journalists', 'year': '2017', 'category': 'Amanda', 'outcome': 'Won', 'original_language': 'fi'}, {'director_name': 'Peter Holloway', 'ceremony': 'Alliance of Women Film Journalists', 'year': '2004', 'category': 'Silver Condor', 'outcome': 'Nominated', 'original_language': 'fi'}, {'director_name': 'Jason Adams', 'ceremony': 'Berlin International Film Festival', 'year': '2003', 'category': 'Amanda', 'outcome': 'Won', 'original_language': 'fi'}, {'director_name': 'Robert Martinez', 'ceremony': 'Berlin International Film Festival', 'year': '2003', 'category': 'Silver Condor', 'outcome': 'Won', 'original_language': 'fi'}]\n",
      "new data generated:  [{'director_name': 'Amy Gray', 'ceremony': 'Alliance of Women Film Journalists', 'year': '2017', 'category': 'Amanda', 'outcome': 'Won', 'original_language': 'fi'}, {'director_name': 'Peter Holloway', 'ceremony': 'Alliance of Women Film Journalists', 'year': '2004', 'category': 'Silver Condor', 'outcome': 'Nominated', 'original_language': 'fi'}, {'director_name': 'Jason Adams', 'ceremony': 'Berlin International Film Festival', 'year': '2003', 'category': 'Amanda', 'outcome': 'Won', 'original_language': 'fi'}, {'director_name': 'Robert Martinez', 'ceremony': 'Berlin International Film Festival', 'year': '2003', 'category': 'Silver Condor', 'outcome': 'Won', 'original_language': 'fi'}, {'director_name': 'Ashley Gray', 'ceremony': 'ACCEC Awards', 'year': '2012', 'category': 'Golden Berlin Bear', 'outcome': 'Won', 'original_language': 'fi'}]\n",
      "new data generated:  [{'director_name': 'Amy Gray', 'ceremony': 'Alliance of Women Film Journalists', 'year': '2017', 'category': 'Amanda', 'outcome': 'Won', 'original_language': 'fi'}, {'director_name': 'Peter Holloway', 'ceremony': 'Alliance of Women Film Journalists', 'year': '2004', 'category': 'Silver Condor', 'outcome': 'Nominated', 'original_language': 'fi'}, {'director_name': 'Jason Adams', 'ceremony': 'Berlin International Film Festival', 'year': '2003', 'category': 'Amanda', 'outcome': 'Won', 'original_language': 'fi'}, {'director_name': 'Robert Martinez', 'ceremony': 'Berlin International Film Festival', 'year': '2003', 'category': 'Silver Condor', 'outcome': 'Won', 'original_language': 'fi'}, {'director_name': 'Ashley Gray', 'ceremony': 'ACCEC Awards', 'year': '2012', 'category': 'Golden Berlin Bear', 'outcome': 'Won', 'original_language': 'fi'}, {'director_name': 'Tara Taylor', 'ceremony': 'Bangkok International Film Festival', 'year': '2003', 'category': 'Golden Berlin Bear', 'outcome': 'Nominated', 'original_language': 'fi'}]\n",
      "new data generated:  [{'director_name': 'Amy Gray', 'ceremony': 'Alliance of Women Film Journalists', 'year': '2017', 'category': 'Amanda', 'outcome': 'Won', 'original_language': 'fi'}, {'director_name': 'Peter Holloway', 'ceremony': 'Alliance of Women Film Journalists', 'year': '2004', 'category': 'Silver Condor', 'outcome': 'Nominated', 'original_language': 'fi'}, {'director_name': 'Jason Adams', 'ceremony': 'Berlin International Film Festival', 'year': '2003', 'category': 'Amanda', 'outcome': 'Won', 'original_language': 'fi'}, {'director_name': 'Robert Martinez', 'ceremony': 'Berlin International Film Festival', 'year': '2003', 'category': 'Silver Condor', 'outcome': 'Won', 'original_language': 'fi'}, {'director_name': 'Ashley Gray', 'ceremony': 'ACCEC Awards', 'year': '2012', 'category': 'Golden Berlin Bear', 'outcome': 'Won', 'original_language': 'fi'}, {'director_name': 'Tara Taylor', 'ceremony': 'Bangkok International Film Festival', 'year': '2003', 'category': 'Golden Berlin Bear', 'outcome': 'Nominated', 'original_language': 'fi'}, {'director_name': 'Ricky Waller', 'ceremony': 'Argentinean Film Critics Association Awards', 'year': '2003', 'category': 'Golden Kinnaree Award', 'outcome': 'Won', 'original_language': 'fi'}]\n",
      "new data generated:  [{'director_name': 'Amy Gray', 'ceremony': 'Alliance of Women Film Journalists', 'year': '2017', 'category': 'Amanda', 'outcome': 'Won', 'original_language': 'fi'}, {'director_name': 'Peter Holloway', 'ceremony': 'Alliance of Women Film Journalists', 'year': '2004', 'category': 'Silver Condor', 'outcome': 'Nominated', 'original_language': 'fi'}, {'director_name': 'Jason Adams', 'ceremony': 'Berlin International Film Festival', 'year': '2003', 'category': 'Amanda', 'outcome': 'Won', 'original_language': 'fi'}, {'director_name': 'Robert Martinez', 'ceremony': 'Berlin International Film Festival', 'year': '2003', 'category': 'Silver Condor', 'outcome': 'Won', 'original_language': 'fi'}, {'director_name': 'Ashley Gray', 'ceremony': 'ACCEC Awards', 'year': '2012', 'category': 'Golden Berlin Bear', 'outcome': 'Won', 'original_language': 'fi'}, {'director_name': 'Tara Taylor', 'ceremony': 'Bangkok International Film Festival', 'year': '2003', 'category': 'Golden Berlin Bear', 'outcome': 'Nominated', 'original_language': 'fi'}, {'director_name': 'Ricky Waller', 'ceremony': 'Argentinean Film Critics Association Awards', 'year': '2003', 'category': 'Golden Kinnaree Award', 'outcome': 'Won', 'original_language': 'fi'}, {'director_name': 'Scott Tyler', 'ceremony': 'Berlin International Film Festival', 'year': '1999', 'category': 'Amanda', 'outcome': 'Nominated', 'original_language': 'fi'}]\n",
      "new data generated:  [{'director_name': 'Amy Gray', 'ceremony': 'Alliance of Women Film Journalists', 'year': '2017', 'category': 'Amanda', 'outcome': 'Won', 'original_language': 'fi'}, {'director_name': 'Peter Holloway', 'ceremony': 'Alliance of Women Film Journalists', 'year': '2004', 'category': 'Silver Condor', 'outcome': 'Nominated', 'original_language': 'fi'}, {'director_name': 'Jason Adams', 'ceremony': 'Berlin International Film Festival', 'year': '2003', 'category': 'Amanda', 'outcome': 'Won', 'original_language': 'fi'}, {'director_name': 'Robert Martinez', 'ceremony': 'Berlin International Film Festival', 'year': '2003', 'category': 'Silver Condor', 'outcome': 'Won', 'original_language': 'fi'}, {'director_name': 'Ashley Gray', 'ceremony': 'ACCEC Awards', 'year': '2012', 'category': 'Golden Berlin Bear', 'outcome': 'Won', 'original_language': 'fi'}, {'director_name': 'Tara Taylor', 'ceremony': 'Bangkok International Film Festival', 'year': '2003', 'category': 'Golden Berlin Bear', 'outcome': 'Nominated', 'original_language': 'fi'}, {'director_name': 'Ricky Waller', 'ceremony': 'Argentinean Film Critics Association Awards', 'year': '2003', 'category': 'Golden Kinnaree Award', 'outcome': 'Won', 'original_language': 'fi'}, {'director_name': 'Scott Tyler', 'ceremony': 'Berlin International Film Festival', 'year': '1999', 'category': 'Amanda', 'outcome': 'Nominated', 'original_language': 'fi'}, {'director_name': 'Timothy Warren', 'ceremony': 'Argentinean Film Critics Association Awards', 'year': '2004', 'category': 'Golden Berlin Bear', 'outcome': 'Won', 'original_language': 'fi'}]\n",
      "new data generated:  [{'director_name': 'Amy Gray', 'ceremony': 'Alliance of Women Film Journalists', 'year': '2017', 'category': 'Amanda', 'outcome': 'Won', 'original_language': 'fi'}, {'director_name': 'Peter Holloway', 'ceremony': 'Alliance of Women Film Journalists', 'year': '2004', 'category': 'Silver Condor', 'outcome': 'Nominated', 'original_language': 'fi'}, {'director_name': 'Jason Adams', 'ceremony': 'Berlin International Film Festival', 'year': '2003', 'category': 'Amanda', 'outcome': 'Won', 'original_language': 'fi'}, {'director_name': 'Robert Martinez', 'ceremony': 'Berlin International Film Festival', 'year': '2003', 'category': 'Silver Condor', 'outcome': 'Won', 'original_language': 'fi'}, {'director_name': 'Ashley Gray', 'ceremony': 'ACCEC Awards', 'year': '2012', 'category': 'Golden Berlin Bear', 'outcome': 'Won', 'original_language': 'fi'}, {'director_name': 'Tara Taylor', 'ceremony': 'Bangkok International Film Festival', 'year': '2003', 'category': 'Golden Berlin Bear', 'outcome': 'Nominated', 'original_language': 'fi'}, {'director_name': 'Ricky Waller', 'ceremony': 'Argentinean Film Critics Association Awards', 'year': '2003', 'category': 'Golden Kinnaree Award', 'outcome': 'Won', 'original_language': 'fi'}, {'director_name': 'Scott Tyler', 'ceremony': 'Berlin International Film Festival', 'year': '1999', 'category': 'Amanda', 'outcome': 'Nominated', 'original_language': 'fi'}, {'director_name': 'Timothy Warren', 'ceremony': 'Argentinean Film Critics Association Awards', 'year': '2004', 'category': 'Golden Berlin Bear', 'outcome': 'Won', 'original_language': 'fi'}, {'director_name': 'Loretta Snyder', 'ceremony': 'Argentinean Film Critics Association Awards', 'year': '2017', 'category': 'Silver Condor', 'outcome': 'Won', 'original_language': 'fi'}]\n"
     ]
    }
   ],
   "source": [
    "# Generate new data\n",
    "new_data_df = generate_random_data(existing_data)"
   ]
  },
  {
   "cell_type": "code",
   "execution_count": 8,
   "id": "b031d5ec-b8ab-4b92-993b-af5e6f365a6b",
   "metadata": {},
   "outputs": [],
   "source": [
    "# Append the new data to the existing table\n",
    "for index, row in new_data_df.iterrows():\n",
    "    cursor.execute(f\"\"\"\n",
    "        INSERT INTO {table_name} (director_name, ceremony, year, category, outcome, original_language)\n",
    "        VALUES (?, ?, ?, ?, ?, ?)\n",
    "    \"\"\", row['director_name'], row['ceremony'], row['year'], row['category'], row['outcome'], row['original_language'])\n",
    "\n"
   ]
  },
  {
   "cell_type": "code",
   "execution_count": 9,
   "id": "f6c98a82-1988-4f30-a01c-4b51f728a36a",
   "metadata": {},
   "outputs": [
    {
     "name": "stdout",
     "output_type": "stream",
     "text": [
      "committed to sql server\n"
     ]
    }
   ],
   "source": [
    "# Commit the transaction\n",
    "conn.commit()\n",
    "print('committed to sql server')"
   ]
  },
  {
   "cell_type": "code",
   "execution_count": 10,
   "id": "ee9098d8-bc32-4c54-a760-df13d76a84fd",
   "metadata": {},
   "outputs": [
    {
     "name": "stdout",
     "output_type": "stream",
     "text": [
      "Appended 10 new rows to [220k_awards_by_directors].\n"
     ]
    }
   ],
   "source": [
    "# Close the connection\n",
    "cursor.close()\n",
    "conn.close()\n",
    "\n",
    "print(f\"Appended {len(new_data_df)} new rows to {table_name}.\")"
   ]
  }
 ],
 "metadata": {
  "kernelspec": {
   "display_name": "Python 3 (ipykernel)",
   "language": "python",
   "name": "python3"
  },
  "language_info": {
   "codemirror_mode": {
    "name": "ipython",
    "version": 3
   },
   "file_extension": ".py",
   "mimetype": "text/x-python",
   "name": "python",
   "nbconvert_exporter": "python",
   "pygments_lexer": "ipython3",
   "version": "3.12.0"
  }
 },
 "nbformat": 4,
 "nbformat_minor": 5
}
